{
 "cells": [
  {
   "cell_type": "code",
   "execution_count": 2,
   "metadata": {
    "tags": []
   },
   "outputs": [],
   "source": [
    "import os\n",
    "import numpy as np\n",
    "import pandas as pd\n",
    "import re"
   ]
  },
  {
   "cell_type": "code",
   "execution_count": 3,
   "metadata": {},
   "outputs": [],
   "source": [
    "workspace_dir = '.'\n",
    "data_source = os.path.join( workspace_dir, 'data')\n",
    "tags_source = os.path.join( data_source, 'tags_clean.csv')"
   ]
  },
  {
   "cell_type": "code",
   "execution_count": 4,
   "metadata": {
    "tags": []
   },
   "outputs": [],
   "source": [
    "hair_dict = ['black hair', 'pink hair', 'purple hair', 'brown hair', 'gray hair', 'red hair', 'blonde hair', 'orange hair', 'aqua hair', 'blue hair', 'white hair', 'green hair'] \n",
    "eyes_dict = ['aqua eyes', 'black eyes', 'blue eyes', 'brown eyes', 'gray eyes', 'green eyes', 'orange eyes', 'pink eyes', 'purple eyes', 'red eyes', 'yellow eyes']\n",
    "\n",
    "hair_index = { chars: i for i, chars in enumerate( hair_dict) }\n",
    "eye_index = { chars: i for i, chars in enumerate( eyes_dict) }"
   ]
  },
  {
   "cell_type": "code",
   "execution_count": 7,
   "metadata": {
    "tags": []
   },
   "outputs": [
    {
     "output_type": "stream",
     "name": "stdout",
     "text": "(11418, 3)\n"
    }
   ],
   "source": [
    "# 用于生成将提供的标签数据转化为Labels.csv文件\n",
    "hair_p = re.compile( '[a-z]+ hair')\n",
    "eye_p = re.compile( '[a-z]+ eyes')\n",
    "id_p = re.compile( '^[0-9]+')\n",
    "\n",
    "def get_ids_lables( file_path = tags_source):\n",
    "    ans = []\n",
    "    with open( tags_source) as fin:\n",
    "        for line in fin:\n",
    "            id = int( re.match( id_p, line).group() )\n",
    "            hairs = re.findall( hair_p, line)\n",
    "            eyes = re.findall( eye_p, line)\n",
    "            temp = [id]\n",
    "            h = 0; e = 0\n",
    "            for hair in hairs:\n",
    "                if hair in hair_index:\n",
    "                    temp.append( hair_index[hair])\n",
    "                    h += 1\n",
    "            for eye in eyes:\n",
    "                if eye in eye_index:\n",
    "                    temp.append( eye_index[eye])\n",
    "                    e += 1\n",
    "            if h != 1 or e != 1: continue\n",
    "            ans.append( temp)\n",
    "        return np.array( ans)\n",
    "new_mat = get_ids_lables()\n",
    "print( new_mat.shape)\n",
    "np.savetxt( r\"./data/labels.csv\", new_mat, delimiter = \",\" )"
   ]
  },
  {
   "cell_type": "code",
   "execution_count": null,
   "metadata": {},
   "outputs": [],
   "source": [
    "# 验证我画的图是否正确\n",
    "from collections import defaultdict\n",
    "total_hair = defaultdict( list)\n",
    "total_eye = defaultdict( list)\n",
    "\n",
    "for x,y,z in dst:\n",
    "    h = int( y[0]); e = int( y[1])\n",
    "    total_hair[h].append( (x,z))\n",
    "    total_eye[e].append( (x,z))\n",
    "R = 4; K = 6; length = len( total_hair[K])\n",
    "print(f\"{hair_dict[K]}\\tlength:{length}\")\n",
    "index = random.sample( range(length), R ** 2)\n",
    "images_to_show = [ total_hair[K][i][0] for i in index]\n",
    "for c,i in enumerate(index):\n",
    "    print(f\"{total_hair[K][i][1]}\", end = '\\t')\n",
    "    if ( c + 1) % R == 0:\n",
    "        print()\n",
    "\n",
    "images_to_show = torchvision.utils.make_grid( images_to_show, R, padding=1, normalize=True).cpu().permute( 1, 2, 0)\n",
    "fg = plt.figure( figsize = ( 8, 8))\n",
    "plt.axis('off')\n",
    "plt.imshow( images_to_show)\n",
    "plt.show()\n",
    "print()"
   ]
  }
 ],
 "metadata": {
  "kernelspec": {
   "display_name": "Python 3",
   "language": "python",
   "name": "python3"
  },
  "language_info": {
   "codemirror_mode": {
    "name": "ipython",
    "version": 3
   },
   "file_extension": ".py",
   "mimetype": "text/x-python",
   "name": "python",
   "nbconvert_exporter": "python",
   "pygments_lexer": "ipython3",
   "version": "3.8.3-final"
  }
 },
 "nbformat": 4,
 "nbformat_minor": 2
}